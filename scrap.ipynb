{
 "cells": [
  {
   "cell_type": "code",
   "execution_count": 1,
   "metadata": {},
   "outputs": [],
   "source": [
    "%load_ext autoreload\n",
    "%autoreload 2"
   ]
  },
  {
   "cell_type": "code",
   "execution_count": 2,
   "metadata": {},
   "outputs": [],
   "source": [
    "%autoreload 2\n",
    "from utils import *\n",
    "from pymongo import MongoClient\n",
    "from config import *\n",
    "from tqdm import tqdm\n",
    "from datetime import datetime\n",
    "import db_utils\n",
    "from bson.objectid import ObjectId"
   ]
  },
  {
   "cell_type": "code",
   "execution_count": 3,
   "metadata": {},
   "outputs": [
    {
     "name": "stdout",
     "output_type": "stream",
     "text": [
      "collection rooms already exists\n",
      "collection teachers already exists\n",
      "collection courses already exists\n",
      "collection teach_in already exists\n",
      "collection course_bookings already exists\n",
      "collection course_schedules already exists\n",
      "collection studyplans already exists\n",
      "collection etu_units already exists\n",
      "collection semesters already exists\n",
      "collection planned_in already exists\n",
      "collection event_bookings already exists\n",
      "collection event_schedules already exists\n",
      "collection roles already exists\n",
      "collection users already exists\n",
      "collection units already exists\n",
      "collection managed_by already exists\n"
     ]
    }
   ],
   "source": [
    "client = MongoClient(f\"mongodb+srv://{DB_USER}:{DB_PASSWORD}@{DB_URL}/?retryWrites=true&w=majority\")\n",
    "\n",
    "db = client[DB_NAME]\n",
    "\n",
    "db_utils.init(db)"
   ]
  },
  {
   "cell_type": "code",
   "execution_count": 11,
   "metadata": {},
   "outputs": [
    {
     "name": "stderr",
     "output_type": "stream",
     "text": [
      "100%|██████████| 1/1 [00:09<00:00,  9.01s/it]\n"
     ]
    }
   ],
   "source": [
    "# List all courses url\n",
    "courses_url = getAllCoursesUrl()\n",
    "\n",
    "# Filter unique\n",
    "courses_url = list(set(courses_url))"
   ]
  },
  {
   "cell_type": "code",
   "execution_count": 12,
   "metadata": {},
   "outputs": [
    {
     "name": "stderr",
     "output_type": "stream",
     "text": [
      "100%|██████████| 447/447 [04:19<00:00,  1.73it/s]\n"
     ]
    }
   ],
   "source": [
    "# Parse all courses\n",
    "URL_ROOT = 'https://edu.epfl.ch'\n",
    "courses = []\n",
    "for url in tqdm(courses_url, total=len(courses_url)):\n",
    "    course = parseCourse(URL_ROOT + url)\n",
    "    courses.append(course)\n",
    "\n",
    "# Filter duplicates\n",
    "courses = filter_duplicates_courses(courses)"
   ]
  },
  {
   "cell_type": "code",
   "execution_count": 6,
   "metadata": {},
   "outputs": [],
   "source": [
    "# Fall 2023-2024\n",
    "create_new_semester(db,\n",
    "    name=\"Semestre d'automne 2023-2024\",\n",
    "    start_date=datetime(2023, 9, 19),\n",
    "    end_date=datetime(2023, 12, 22),\n",
    "    type=\"fall\",\n",
    "    available=True\n",
    ")\n",
    "\n",
    "# Spring 2023-2024\n",
    "create_new_semester(db,\n",
    "    name=\"Semestre de printemps 2023-2024\",\n",
    "    start_date=datetime(2024, 2, 19),\n",
    "    end_date=datetime(2024, 5, 31),\n",
    "    type=\"spring\",\n",
    "    available=True\n",
    ")"
   ]
  },
  {
   "cell_type": "code",
   "execution_count": 7,
   "metadata": {},
   "outputs": [
    {
     "name": "stderr",
     "output_type": "stream",
     "text": [
      "100%|██████████| 1869/1869 [00:00<00:00, 413217.76it/s]\n"
     ]
    }
   ],
   "source": [
    "### -- Create all courses -- ###\n",
    "create_courses(db, courses)"
   ]
  },
  {
   "cell_type": "code",
   "execution_count": 17,
   "metadata": {},
   "outputs": [
    {
     "name": "stdout",
     "output_type": "stream",
     "text": [
      "Getting rooms from plan.epfl.ch\n"
     ]
    },
    {
     "name": "stderr",
     "output_type": "stream",
     "text": [
      "100%|██████████| 9/9 [00:10<00:00,  1.16s/it]\n"
     ]
    },
    {
     "name": "stdout",
     "output_type": "stream",
     "text": [
      "Getting rooms from database\n",
      "Updating rooms in database\n"
     ]
    },
    {
     "name": "stderr",
     "output_type": "stream",
     "text": [
      "100%|██████████| 168/168 [00:00<00:00, 1706.19it/s]\n"
     ]
    },
    {
     "name": "stdout",
     "output_type": "stream",
     "text": [
      "Creating new rooms in database\n"
     ]
    },
    {
     "name": "stderr",
     "output_type": "stream",
     "text": [
      "100%|██████████| 1/1 [00:00<00:00, 887.50it/s]\n"
     ]
    }
   ],
   "source": [
    "### -- Create all rooms -- ###\n",
    "create_rooms(db, courses)"
   ]
  },
  {
   "cell_type": "code",
   "execution_count": 9,
   "metadata": {},
   "outputs": [
    {
     "name": "stderr",
     "output_type": "stream",
     "text": [
      "100%|██████████| 1869/1869 [00:00<00:00, 36711.85it/s]\n"
     ]
    }
   ],
   "source": [
    "### -- Create all teachers -- ###\n",
    "create_teachers(db, courses)"
   ]
  },
  {
   "cell_type": "code",
   "execution_count": 10,
   "metadata": {},
   "outputs": [
    {
     "name": "stderr",
     "output_type": "stream",
     "text": [
      "100%|██████████| 1869/1869 [02:48<00:00, 11.12it/s]\n"
     ]
    }
   ],
   "source": [
    "### -- Create all teach_in -- ###\n",
    "create_teach_in(db, courses)"
   ]
  },
  {
   "cell_type": "code",
   "execution_count": 18,
   "metadata": {},
   "outputs": [
    {
     "name": "stderr",
     "output_type": "stream",
     "text": [
      "100%|██████████| 447/447 [01:17<00:00,  5.74it/s]\n"
     ]
    }
   ],
   "source": [
    "### -- Create all bookings and schedules -- ###\n",
    "create_courses_schedules_and_bookings(db, courses)"
   ]
  },
  {
   "cell_type": "code",
   "execution_count": 11,
   "metadata": {},
   "outputs": [],
   "source": [
    "### -- List planned_in -- ###\n",
    "planned_in = list_courses_plan_studyplans()"
   ]
  },
  {
   "cell_type": "code",
   "execution_count": 14,
   "metadata": {},
   "outputs": [
    {
     "name": "stderr",
     "output_type": "stream",
     "text": [
      "100%|██████████| 174/174 [00:00<00:00, 528847.03it/s]\n"
     ]
    }
   ],
   "source": [
    "### -- Create all units -- ###\n",
    "create_units(db, planned_in)"
   ]
  },
  {
   "cell_type": "code",
   "execution_count": 15,
   "metadata": {},
   "outputs": [
    {
     "name": "stderr",
     "output_type": "stream",
     "text": [
      "100%|██████████| 2849/2849 [00:00<00:00, 303704.88it/s]\n"
     ]
    }
   ],
   "source": [
    "### -- Create all studyplans -- ###\n",
    "create_studyplans(db, planned_in)"
   ]
  },
  {
   "cell_type": "code",
   "execution_count": 16,
   "metadata": {},
   "outputs": [
    {
     "name": "stderr",
     "output_type": "stream",
     "text": [
      "100%|██████████| 2849/2849 [01:34<00:00, 30.02it/s]\n"
     ]
    }
   ],
   "source": [
    "### -- Create all planned_in -- ###\n",
    "create_planned_in(db, planned_in)"
   ]
  }
 ],
 "metadata": {
  "kernelspec": {
   "display_name": "Python 3",
   "language": "python",
   "name": "python3"
  },
  "language_info": {
   "codemirror_mode": {
    "name": "ipython",
    "version": 3
   },
   "file_extension": ".py",
   "mimetype": "text/x-python",
   "name": "python",
   "nbconvert_exporter": "python",
   "pygments_lexer": "ipython3",
   "version": "3.11.4"
  },
  "orig_nbformat": 4
 },
 "nbformat": 4,
 "nbformat_minor": 2
}
