{
 "cells": [
  {
   "cell_type": "code",
   "execution_count": null,
   "metadata": {},
   "outputs": [],
   "source": [
    "import requests\n",
    "from bs4 import BeautifulSoup\n",
    "import numpy as np\n",
    "import re"
   ]
  },
  {
   "cell_type": "code",
   "execution_count": null,
   "metadata": {},
   "outputs": [],
   "source": [
    "def getAllCours():\n",
    "    URL_ROOT = 'https://edu.epfl.ch/'\n",
    "    shs = ['https://edu.epfl.ch/studyplan/fr/bachelor/programme-sciences-humaines-et-sociales/', 'https://edu.epfl.ch/studyplan/fr/master/programme-sciences-humaines-et-sociales/']\n",
    "    page = requests.get(URL_ROOT)\n",
    "    soup = BeautifulSoup(page.content, \"html.parser\")\n",
    "    cards = soup.findAll(\"div\", class_=\"card-title\")\n",
    "    annees = [card.find('a').get('href') for card in cards]\n",
    "    courses = []\n",
    "    for annee in annees:\n",
    "        page = requests.get(URL_ROOT + annee)\n",
    "        soup = BeautifulSoup(page.content, \"html.parser\")\n",
    "        sections = [x.get('href') for x in soup.find('main').find('ul').findAll('a')]\n",
    "        for section in sections:\n",
    "            page = requests.get(URL_ROOT + section)\n",
    "            soup = BeautifulSoup(page.content, \"html.parser\")\n",
    "            for cours in soup.find('main').findAll('div', class_=\"cours-name\"):\n",
    "                if cours.find('a') != None:\n",
    "                    courses.append(cours.find('a').get('href').split('/').pop())\n",
    "    courses.remove('programme-sciences-humaines-et-sociales')\n",
    "    for url in shs:\n",
    "        page = requests.get(url)\n",
    "        soup = BeautifulSoup(page.content, \"html.parser\")\n",
    "        for cours in soup.findAll(\"div\", class_=\"cours-name\"):\n",
    "            if cours.find('a') != None:\n",
    "                courses.append(cours.find('a').get('href').split('/').pop())\n",
    "                \n",
    "    return courses"
   ]
  },
  {
   "cell_type": "code",
   "execution_count": 150,
   "metadata": {},
   "outputs": [],
   "source": [
    "def parseCours(url):\n",
    "    page = requests.get(url)\n",
    "    if (page.status_code == 404):\n",
    "        print(url)\n",
    "        return\n",
    "        \n",
    "    soup = BeautifulSoup(page.content, \"html.parser\")\n",
    "    \n",
    "    title = soup.find('main').find('h1').text\n",
    "    if (soup.find('div', class_=\"course-summary\") == None):\n",
    "        print(url)\n",
    "    code = soup.find('div', class_=\"course-summary\").findAll('p')[0].text.split('/')[0].strip()\n",
    "    credits = int(re.findall(r'\\d+', soup.find('div', class_=\"course-summary\").findAll('p')[0].text.split('/')[1])[0])\n",
    "    teachers = [(x.text, x.get('href')) for x in soup.find('div', class_=\"course-summary\").findAll('p')[1].findAll('a')]\n",
    "    \n",
    "\n",
    "    schedule = dict()\n",
    "    if (soup.find(\"table\", class_=\"semaineDeRef\") != None):\n",
    "        rows = soup.find(\"table\", class_=\"semaineDeRef\").findAll(\"tr\")\n",
    "    \n",
    "        for i, row in enumerate(rows):\n",
    "            col = row.findAll('td')\n",
    "            for j, col in enumerate(col):\n",
    "                if (i == 0):\n",
    "                    if (j > 0):\n",
    "                        day = col.text\n",
    "                else:\n",
    "                    if (j == 0):\n",
    "                        time = col.text\n",
    "                    else:\n",
    "                        classes = col.get('class')\n",
    "                        if (classes != None and \"taken\" in classes):\n",
    "                            if (col.get('rowspan') == None):\n",
    "                                duration = 1\n",
    "                            else:\n",
    "                                duration = int(col.get('rowspan'))\n",
    "                            classes.remove('taken')\n",
    "                            if (len(classes) != 0):\n",
    "                                label = classes[0]\n",
    "                                rooms = [room.text for room in col.findAll('a')]\n",
    "                                if (time not in schedule):\n",
    "                                    schedule[time] = dict()\n",
    "                                schedule[time][day] = {\n",
    "                                    'label': label,\n",
    "                                    'duration': duration,\n",
    "                                    'rooms': rooms\n",
    "                                }\n",
    "    course = {\n",
    "        'name': title,\n",
    "        'code': code,\n",
    "        'credits': credits,\n",
    "        'teachers': teachers,\n",
    "        'schedule': schedule\n",
    "    }\n",
    "\n",
    "    return course"
   ]
  },
  {
   "cell_type": "code",
   "execution_count": 103,
   "metadata": {},
   "outputs": [],
   "source": [
    "courses_url = getAllCours()"
   ]
  },
  {
   "cell_type": "code",
   "execution_count": 153,
   "metadata": {},
   "outputs": [
    {
     "name": "stdout",
     "output_type": "stream",
     "text": [
      "https://edu.epfl.ch/coursebook/fr/human-computer-interaction-CS-213\n",
      "https://edu.epfl.ch/coursebook/fr/programme-sciences-humaines-et-sociales\n",
      "https://edu.epfl.ch/coursebook/fr/hydrological-risks-and-structures-ENV-524\n"
     ]
    }
   ],
   "source": [
    "URL_ROOT = 'https://edu.epfl.ch/coursebook/fr/'\n",
    "courses_url = list(set(courses_url))\n",
    "\n",
    "courses = []\n",
    "for url in courses_url:\n",
    "    courses.append(parseCours(URL_ROOT + url))\n",
    "\n"
   ]
  },
  {
   "cell_type": "code",
   "execution_count": 161,
   "metadata": {},
   "outputs": [
    {
     "name": "stdout",
     "output_type": "stream",
     "text": [
      "[{'name': 'Machine learning', 'code': 'CS-433', 'credits': 8, 'teachers': [('Jaggi Martin', 'https://people.epfl.ch/276449?lang=fr'), ('Flammarion Nicolas Henri Bernard', 'https://people.epfl.ch/317566?lang=fr')], 'schedule': {'10-11': {'Ve': {'label': 'cours', 'duration': 2, 'rooms': ['RLC E1 240']}}, '14-15': {'Ve': {'label': 'exercice', 'duration': 2, 'rooms': ['INF2', 'INF119', 'INM202', 'INJ218', 'INR219']}}, '16-17': {'Ve': {'label': 'cours', 'duration': 2, 'rooms': ['RLC E1 240']}}}}]\n"
     ]
    }
   ],
   "source": [
    "courses = list(filter(lambda x: x != None, courses))"
   ]
  },
  {
   "cell_type": "code",
   "execution_count": 165,
   "metadata": {},
   "outputs": [],
   "source": [
    "import pickle \n",
    "\n",
    "with open('courses.pkl', 'wb') as f:\n",
    "    pickle.dump(courses, f)"
   ]
  },
  {
   "cell_type": "code",
   "execution_count": null,
   "metadata": {},
   "outputs": [],
   "source": [
    "# Load data (deserialize)\n",
    "with open('courses.pkl', 'rb') as handle:\n",
    "    courses = pickle.load(handle)"
   ]
  }
 ],
 "metadata": {
  "kernelspec": {
   "display_name": "Python 3",
   "language": "python",
   "name": "python3"
  },
  "language_info": {
   "codemirror_mode": {
    "name": "ipython",
    "version": 3
   },
   "file_extension": ".py",
   "mimetype": "text/x-python",
   "name": "python",
   "nbconvert_exporter": "python",
   "pygments_lexer": "ipython3",
   "version": "3.9.0"
  },
  "orig_nbformat": 4,
  "vscode": {
   "interpreter": {
    "hash": "f93075eebf97bc5e18c38d1a54e461de353c7365fd9def5e44782928585336f0"
   }
  }
 },
 "nbformat": 4,
 "nbformat_minor": 2
}
