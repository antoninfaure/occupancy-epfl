{
 "cells": [
  {
   "cell_type": "code",
   "execution_count": 1,
   "metadata": {},
   "outputs": [],
   "source": [
    "import requests\n",
    "from bs4 import BeautifulSoup\n",
    "import numpy as np\n",
    "import re\n",
    "import pickle "
   ]
  },
  {
   "cell_type": "code",
   "execution_count": 124,
   "metadata": {},
   "outputs": [],
   "source": [
    "def getAllCours():\n",
    "    URL_ROOT = 'https://edu.epfl.ch/'\n",
    "    shs = ['https://edu.epfl.ch/studyplan/fr/bachelor/programme-sciences-humaines-et-sociales/', 'https://edu.epfl.ch/studyplan/fr/master/programme-sciences-humaines-et-sociales/']\n",
    "    page = requests.get(URL_ROOT)\n",
    "    soup = BeautifulSoup(page.content, \"html.parser\")\n",
    "    cards = soup.findAll(\"div\", class_=\"card-title\")\n",
    "    annees = [card.find('a').get('href') for card in cards]\n",
    "    courses = []\n",
    "    for annee in annees:\n",
    "        page = requests.get(URL_ROOT + annee)\n",
    "        soup = BeautifulSoup(page.content, \"html.parser\")\n",
    "        sections = [x.get('href') for x in soup.find('main').find('ul').findAll('a')]\n",
    "        for section in sections:\n",
    "            page = requests.get(URL_ROOT + section)\n",
    "            soup = BeautifulSoup(page.content, \"html.parser\")\n",
    "            for cours in soup.find('main').findAll('div', class_=\"cours-name\"):\n",
    "                if cours.find('a') != None:\n",
    "                    courses.append(cours.find('a').get('href').split('/').pop())\n",
    "    courses.remove('programme-sciences-humaines-et-sociales')\n",
    "    for url in shs:\n",
    "        page = requests.get(url)\n",
    "        soup = BeautifulSoup(page.content, \"html.parser\")\n",
    "        for cours in soup.findAll(\"div\", class_=\"cours-name\"):\n",
    "            if cours.find('a') != None:\n",
    "                courses.append(cours.find('a').get('href').split('/').pop())\n",
    "                \n",
    "    return courses"
   ]
  },
  {
   "cell_type": "code",
   "execution_count": 121,
   "metadata": {},
   "outputs": [],
   "source": [
    "def parseCours(url):\n",
    "    page = requests.get(url)\n",
    "    if (page.status_code == 404):\n",
    "        print(url)\n",
    "        return\n",
    "        \n",
    "    soup = BeautifulSoup(page.content, \"html.parser\")\n",
    "    \n",
    "    title = soup.find('main').find('h1').text\n",
    "    if (soup.find('div', class_=\"course-summary\") == None):\n",
    "        print(url)\n",
    "    code = soup.find('div', class_=\"course-summary\").findAll('p')[0].text.split('/')[0].strip()\n",
    "    semester = soup.find('div', class_=\"study-plans\").findAll('div', class_=\"collapse-item\")[0].findAll('li')[0].text.split(':')[1].strip()\n",
    "    credits = int(re.findall(r'\\d+', soup.find('div', class_=\"course-summary\").findAll('p')[0].text.split('/')[1])[0])\n",
    "    teachers = [(x.text, x.get('href')) for x in soup.find('div', class_=\"course-summary\").findAll('p')[1].findAll('a')]\n",
    "    \n",
    "\n",
    "    schedule = dict()\n",
    "    if (soup.find(\"table\", class_=\"semaineDeRef\") != None):\n",
    "        rows = soup.find(\"table\", class_=\"semaineDeRef\").findAll(\"tr\")\n",
    "        days = []\n",
    "        for i, row in enumerate(rows):\n",
    "            col = row.findAll('td')\n",
    "            for j, col in enumerate(col):\n",
    "                if (i == 0):\n",
    "                    if (j > 0):\n",
    "                        days.append(col.text)\n",
    "                else:\n",
    "                    if (j == 0):\n",
    "                        time = col.text\n",
    "                    else:\n",
    "                        classes = col.get('class')\n",
    "                        if (classes != None and \"taken\" in classes):\n",
    "                            if (col.get('rowspan') == None):\n",
    "                                duration = 1\n",
    "                            else:\n",
    "                                duration = int(col.get('rowspan'))\n",
    "                            classes.remove('taken')\n",
    "                            if (len(classes) != 0):\n",
    "                                label = classes[0]\n",
    "                                day = days[j-1]\n",
    "                                rooms = [room.text for room in col.findAll('a')]\n",
    "                                if (time not in schedule):\n",
    "                                    schedule[time] = dict()\n",
    "                                schedule[time][day] = {\n",
    "                                    'label': label,\n",
    "                                    'duration': duration,\n",
    "                                    'rooms': rooms\n",
    "                                }\n",
    "    if (semester != 'Printemps' and semester != 'Automne'):\n",
    "        semester = None\n",
    "    course = {\n",
    "        'name': title,\n",
    "        'code': code,\n",
    "        'credits': credits,\n",
    "        'semester': semester,\n",
    "        'teachers': teachers,\n",
    "        'schedule': schedule\n",
    "    }\n",
    "\n",
    "    return course"
   ]
  },
  {
   "cell_type": "code",
   "execution_count": 125,
   "metadata": {},
   "outputs": [],
   "source": [
    "courses_url = getAllCours()"
   ]
  },
  {
   "cell_type": "code",
   "execution_count": 126,
   "metadata": {},
   "outputs": [
    {
     "name": "stdout",
     "output_type": "stream",
     "text": [
      "https://edu.epfl.ch/coursebook/fr/hydrological-risks-and-structures-ENV-524\n",
      "https://edu.epfl.ch/coursebook/fr/human-computer-interaction-CS-213\n",
      "https://edu.epfl.ch/coursebook/fr/programme-sciences-humaines-et-sociales\n"
     ]
    }
   ],
   "source": [
    "URL_ROOT = 'https://edu.epfl.ch/coursebook/fr/'\n",
    "courses_url = list(set(courses_url))\n",
    "\n",
    "courses = []\n",
    "for url in courses_url:\n",
    "    courses.append(parseCours(URL_ROOT + url))\n",
    "\n"
   ]
  },
  {
   "cell_type": "code",
   "execution_count": 127,
   "metadata": {},
   "outputs": [],
   "source": [
    "data = list(filter(lambda x: x != None, courses))\n",
    "\n",
    "with open('./data/data.pkl', 'wb') as f:\n",
    "        pickle.dump(data, f)"
   ]
  },
  {
   "cell_type": "code",
   "execution_count": 110,
   "metadata": {},
   "outputs": [
    {
     "name": "stdout",
     "output_type": "stream",
     "text": [
      "{'name': 'Discrete optimization', 'code': 'MATH-261', 'credits': 5, 'semester': 'Printemps', 'teachers': [('Pinchasi Rom', 'https://people.epfl.ch/220020?lang=fr')], 'schedule': {'8-9': {'Ve': {'label': 'exercice', 'duration': 2, 'rooms': ['CM1105']}}, '10-11': {'Ve': {'label': 'cours', 'duration': 2, 'rooms': ['CM1105']}}}}\n"
     ]
    }
   ],
   "source": [
    "print(data[0])"
   ]
  },
  {
   "cell_type": "code",
   "execution_count": 83,
   "metadata": {},
   "outputs": [],
   "source": [
    "def save_files_entities():\n",
    "    data = load_file('data')\n",
    "\n",
    "    # Get list of unique teachers\n",
    "    teachers = sum([x['teachers'] for x in data], [])\n",
    "    teachers = list(set(teachers))\n",
    "    teachers = [{\n",
    "        'name': x[0],\n",
    "        'people_url': x[1]\n",
    "    } for x in teachers]\n",
    "\n",
    "    # Get list of unique rooms\n",
    "    rooms = []\n",
    "    for x in data:\n",
    "        for time in x['schedule'].values():\n",
    "            for day in time.values():\n",
    "                rooms.append(day['rooms'])\n",
    "    rooms = list(set(sum(rooms, [])))\n",
    "    rooms = [{ 'name': room } for room in rooms]\n",
    "\n",
    "    # Get list of unique courses\n",
    "    codes = []\n",
    "    courses = []\n",
    "    for course in data:\n",
    "        if (course['code'] not in codes):\n",
    "            courses.append({\n",
    "                'name': course['name'],\n",
    "                'code': course['code'],\n",
    "                'credits': course['credits'],\n",
    "                'semester': course['semester']\n",
    "            })\n",
    "            codes.append(course['code'])\n",
    "\n",
    "    with open('./data/teachers.pkl', 'wb') as f:\n",
    "        pickle.dump(teachers, f)\n",
    "    \n",
    "    with open('./data/rooms.pkl', 'wb') as f:\n",
    "        pickle.dump(rooms, f)\n",
    "\n",
    "    with open('./data/courses.pkl', 'wb') as f:\n",
    "        pickle.dump(courses, f)"
   ]
  },
  {
   "cell_type": "code",
   "execution_count": 84,
   "metadata": {},
   "outputs": [],
   "source": [
    "def save_files_relations():\n",
    "    data = load_file('./data/data.pkl')\n",
    "\n",
    "    # Get list of unique teach_in\n",
    "    teach_in = []\n",
    "    for course in data:\n",
    "        for teacher in course['teachers']:\n",
    "            teach_in.append((\n",
    "                course['code'],\n",
    "                teacher[0]\n",
    "            ))\n",
    "    teach_in = list(set(teach_in))\n",
    "    \n",
    "    # Get list of unique booking\n",
    "    booking = []\n",
    "    for course in data:\n",
    "        for time, row in course['schedule'].items():\n",
    "            for day, creneau in row.items():\n",
    "                for room in creneau['rooms']:\n",
    "                    booking.append({\n",
    "                        'room': room,\n",
    "                        'course': course['code'],\n",
    "                        'label': creneau['label'],\n",
    "                        'duration': creneau['duration'],\n",
    "                        'time': time,\n",
    "                        'day': day,\n",
    "                        'semester': course['semester']\n",
    "                    })\n",
    "    \n",
    "    with open('./data/teach_in.pkl', 'wb') as f:\n",
    "        pickle.dump(teach_in, f)\n",
    "\n",
    "    with open('./data/booking.pkl', 'wb') as f:\n",
    "        pickle.dump(booking, f)"
   ]
  },
  {
   "cell_type": "code",
   "execution_count": 177,
   "metadata": {},
   "outputs": [
    {
     "name": "stdout",
     "output_type": "stream",
     "text": [
      "[{'_id': ObjectId('63deb3dfe2f04985631b6cf0'), 'room': ObjectId('63de9d83e2f04985631b3ca1'), 'course': ObjectId('63de9d87e2f04985631b4185'), 'label': 'exercice', 'duration': 2, 'time': '8-9', 'day': 'Ma', 'semester': 'Printemps'}]\n"
     ]
    }
   ],
   "source": [
    "print(booking[:1])"
   ]
  },
  {
   "cell_type": "code",
   "execution_count": 97,
   "metadata": {},
   "outputs": [],
   "source": [
    "def update_db_entities(db):\n",
    "    teachers = load_file('./data/teachers.pkl')\n",
    "    rooms = load_file('./data/rooms.pkl')\n",
    "    courses = load_file('./data/courses.pkl')\n",
    "\n",
    "    for x in rooms:\n",
    "        db.rooms.update_one({'name': x['name']}, {\"$set\": x}, upsert=True)\n",
    "    for x in teachers:\n",
    "        db.teachers.update_one({'name': x['name']}, {\"$set\": x}, upsert=True)\n",
    "    for x in courses:\n",
    "        db.courses.update_one({'code': x['code']}, {\"$set\": x}, upsert=True)"
   ]
  },
  {
   "cell_type": "code",
   "execution_count": 102,
   "metadata": {},
   "outputs": [],
   "source": [
    "def update_db_relations(db):\n",
    "    queried_rooms = db.rooms.find()\n",
    "    queried_teachers = db.teachers.find()\n",
    "    queried_courses = db.courses.find()\n",
    "\n",
    "    map_room = dict()\n",
    "    for room in queried_rooms:\n",
    "        map_room[room['name']] = room['_id']\n",
    "\n",
    "    map_teacher = dict()\n",
    "    for teacher in queried_teachers:\n",
    "        map_teacher[teacher['name']] = teacher['_id'] \n",
    "\n",
    "    map_course = dict()\n",
    "    for course in queried_courses:\n",
    "        map_course[course['code']] = course['_id']\n",
    "\n",
    "    # Load the relations\n",
    "    teach_in = load_file('./data/teach_in.pkl')\n",
    "    booking = load_file('./data/booking.pkl')\n",
    "\n",
    "    # Map the DB ids\n",
    "    teach_in = [{\n",
    "        'teacher': map_teacher[x[1]],\n",
    "        'course': map_course[x[0]]\n",
    "    } for x in teach_in]\n",
    "\n",
    "    booking = [{\n",
    "        **x,\n",
    "        'room': map_room[x['room']],\n",
    "        'course': map_course[x['course']],\n",
    "    } for x in booking]\n",
    "\n",
    "    # Insert in DB\n",
    "\n",
    "    db.teach_in.drop()\n",
    "    db.booking.drop()\n",
    "\n",
    "    db.teach_in.insert_many(teach_in)\n",
    "    db.booking.insert_many(booking)\n",
    "\n",
    "    "
   ]
  },
  {
   "cell_type": "code",
   "execution_count": 87,
   "metadata": {},
   "outputs": [],
   "source": [
    "def load_file(name):\n",
    "    with open(name, 'rb') as handle:\n",
    "        data = pickle.load(handle)\n",
    "    return data"
   ]
  },
  {
   "cell_type": "code",
   "execution_count": 88,
   "metadata": {},
   "outputs": [],
   "source": [
    "def DB_indices(db):\n",
    "    db.rooms.create_index([(\"name\", pymongo.ASCENDING)], name=\"room_name\", unique=True)\n",
    "    db.teachers.create_index([(\"name\", pymongo.ASCENDING)], name=\"teacher_unique\", unique=True)\n",
    "    db.courses.create_index([(\"code\", pymongo.ASCENDING)], name=\"course_unique\", unique=True)\n",
    "    db.teach_in.create_index([(\"teacher\", pymongo.ASCENDING), (\"course\", pymongo.ASCENDING)], name=\"teach_in_unique\", unique=True)\n",
    "    db.booking.create_index([(\"room\", pymongo.ASCENDING), (\"time\", pymongo.ASCENDING), (\"day\", pymongo.ASCENDING), (\"semester\", pymongo.ASCENDING)], name=\"booking_unique\", unique=True)"
   ]
  },
  {
   "cell_type": "code",
   "execution_count": 89,
   "metadata": {},
   "outputs": [],
   "source": [
    "import pymongo\n",
    "from pymongo import MongoClient\n",
    "import config\n",
    "\n",
    "client = MongoClient(f\"mongodb+srv://{config.DB_USER}:{config.DB_PASSWORD}@{config.DB_URL}/?retryWrites=true&w=majority\")\n",
    "\n",
    "db = client[config.DB_NAME]\n",
    "\n",
    "DB_indices(db)"
   ]
  },
  {
   "cell_type": "code",
   "execution_count": 100,
   "metadata": {},
   "outputs": [],
   "source": [
    "save_files_entities()\n",
    "update_db_entities(db)"
   ]
  },
  {
   "cell_type": "code",
   "execution_count": 128,
   "metadata": {},
   "outputs": [],
   "source": [
    "save_files_relations()\n",
    "update_db_relations(db)"
   ]
  }
 ],
 "metadata": {
  "kernelspec": {
   "display_name": "Python 3",
   "language": "python",
   "name": "python3"
  },
  "language_info": {
   "codemirror_mode": {
    "name": "ipython",
    "version": 3
   },
   "file_extension": ".py",
   "mimetype": "text/x-python",
   "name": "python",
   "nbconvert_exporter": "python",
   "pygments_lexer": "ipython3",
   "version": "3.9.0"
  },
  "orig_nbformat": 4,
  "vscode": {
   "interpreter": {
    "hash": "f93075eebf97bc5e18c38d1a54e461de353c7365fd9def5e44782928585336f0"
   }
  }
 },
 "nbformat": 4,
 "nbformat_minor": 2
}
